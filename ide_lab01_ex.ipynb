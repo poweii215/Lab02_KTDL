{
 "cells": [
  {
   "cell_type": "markdown",
   "id": "0zCXxuhBgvw0",
   "metadata": {
    "id": "0zCXxuhBgvw0"
   },
   "source": [
    "Thông tin các bộ dữ liệu:\n",
    "\n",
    "- `car-sales.csv`: bộ dữ liệu chứa thông tin của các ôtô cũ ở một cửa hàng\n"
   ]
  },
  {
   "cell_type": "markdown",
   "id": "Jkv4mX72gvw8",
   "metadata": {
    "id": "Jkv4mX72gvw8"
   },
   "source": [
    "### 1. Đọc dữ liệu"
   ]
  },
  {
   "cell_type": "markdown",
   "id": "054f17ed",
   "metadata": {
    "id": "054f17ed"
   },
   "source": [
    "# Lab 02 - Bài tập"
   ]
  },
  {
   "cell_type": "markdown",
   "id": "d093f5b3",
   "metadata": {
    "id": "d093f5b3"
   },
   "source": [
    "---\n",
    "\n",
    "## THÔNG TIN\n",
    "\n",
    "- Họ tên: Trần Gia Vỹ\n",
    "- MSV: 23715831\n",
    "- Ngày hoàn thành:11/01/2025"
   ]
  },
  {
   "cell_type": "markdown",
   "id": "e63fbe23",
   "metadata": {
    "id": "e63fbe23"
   },
   "source": [
    "---\n",
    "## NUMPY\n",
    "\n",
    "Bạn hãy phát sinh ngẫu nhiên mảng ndarray có tên `arr` gồm 100 phần tử số nguyên có giá trị từ 0..1000. Thực hiện các thao tác sau:"
   ]
  },
  {
   "cell_type": "markdown",
   "id": "f462030f",
   "metadata": {
    "id": "f462030f"
   },
   "source": [
    "### 1. Hiển thị các phần tử thỏa yêu cầu dưới đây\n",
    "\n",
    "- 10 phần tử đầu tiên\n",
    "- 5 phần tử cuối cùng\n",
    "- Các phần tử thỏa mãn điều kiện chia hết cho 5 và lớn hơn 100"
   ]
  },
  {
   "cell_type": "code",
   "execution_count": null,
   "id": "c785d08d",
   "metadata": {
    "colab": {
     "base_uri": "https://localhost:8080/"
    },
    "id": "c785d08d",
    "outputId": "476de2a2-2118-44e2-a983-2eb2ece6231a"
   },
   "outputs": [
    {
     "name": "stdout",
     "output_type": "stream",
     "text": [
      "Muoi phan tu dau tien: [409 874 760  16 190 142 922 851  77 280]\n",
      "Nam phan tu cuoi cung: [164 977 874 777 192]\n",
      "Cac phan tu thoai man chia het cho 5 va lon hon 100: [760 190 280 500 720 360 245 245 750 470 935 640 650 775 190 520]\n"
     ]
    }
   ],
   "source": [
    "import numpy as np\n",
    "arr = np.random.randint(0,1001, size=100)\n",
    "print(\"Muoi phan tu dau tien:\",arr[:10])\n",
    "print(\"Nam phan tu cuoi cung:\",arr[-5:])\n",
    "a = arr[( arr%5 == 0) & (arr>100)]\n",
    "print(\"Cac phan tu thoai man chia het cho 5 va lon hon 100:\",a)"
   ]
  },
  {
   "cell_type": "markdown",
   "id": "1cd7cd06",
   "metadata": {
    "id": "1cd7cd06"
   },
   "source": [
    "### 2. Cho biết mảng trên có bao nhiêu phần tử có giá trị nhỏ hơn 100. Hiển thị các phần tử đó"
   ]
  },
  {
   "cell_type": "code",
   "execution_count": null,
   "id": "e45b320d",
   "metadata": {
    "colab": {
     "base_uri": "https://localhost:8080/"
    },
    "id": "e45b320d",
    "outputId": "f989e68c-c817-4adb-a1d2-9c34275765e9"
   },
   "outputs": [
    {
     "name": "stdout",
     "output_type": "stream",
     "text": [
      "Cac phan tu nho hon 100 [19 27  3 81 83 49 35 20 38]\n"
     ]
    }
   ],
   "source": [
    "import numpy as np\n",
    "arr = np.random.randint(0,1001, size=100)\n",
    "a = arr[(arr<100)]\n",
    "print(\"Cac phan tu nho hon 100\",a)"
   ]
  },
  {
   "cell_type": "markdown",
   "id": "93cf52fa",
   "metadata": {
    "id": "93cf52fa"
   },
   "source": [
    "### 3. Thực hiện thống kê:\n",
    "\n",
    "- Tính tổng mảng\n",
    "- Tìm giá trị trung bình\n",
    "- Tìm giá trị trung vị\n",
    "- Tìm Q1, Q2, Q3\n",
    "- Tìm phân vị 20 (percentile 20)"
   ]
  },
  {
   "cell_type": "code",
   "execution_count": null,
   "id": "51d2ec6c",
   "metadata": {
    "colab": {
     "base_uri": "https://localhost:8080/"
    },
    "id": "51d2ec6c",
    "outputId": "39603ce6-8fba-4f2c-d57c-40c2ea432fac"
   },
   "outputs": [
    {
     "name": "stdout",
     "output_type": "stream",
     "text": [
      "Tong mang: 47574\n",
      "Giá trị trung bình: 475.74\n",
      "Giá trị trung vị: 448.5\n",
      "-Phân vị Q1 (median):  258.75\n",
      "-Phân vị Q2 (median):  448.5\n",
      "-Phân vị Q3 (median):  728.5\n",
      "Phân vị 20: 209.0\n"
     ]
    }
   ],
   "source": [
    "import numpy as np\n",
    "import math\n",
    "arr = np.random.randint(0,1001, size=100)\n",
    "tong = arr.sum()\n",
    "print(\"Tong mang:\",tong)\n",
    "trung_binh = arr.mean()\n",
    "print(\"Giá trị trung bình:\",trung_binh)\n",
    "Trung_vi = np.median(arr)\n",
    "print(\"Giá trị trung vị:\", Trung_vi)\n",
    "print('-Phân vị Q1 (median): ', np.quantile(arr,0.25))\n",
    "print('-Phân vị Q2 (median): ', np.quantile(arr,0.5))\n",
    "print('-Phân vị Q3 (median): ', np.quantile(arr,0.75))\n",
    "Phan_vi_20 = np.percentile(arr, 20)\n",
    "print(\"-Phân vị 20:\", Phan_vi_20)"
   ]
  },
  {
   "cell_type": "markdown",
   "id": "e4eb6cc6",
   "metadata": {
    "id": "e4eb6cc6"
   },
   "source": [
    "---\n",
    "\n",
    "## PANDAS"
   ]
  },
  {
   "cell_type": "markdown",
   "id": "01e2bed7",
   "metadata": {
    "id": "01e2bed7"
   },
   "source": [
    "Thông tin các bộ dữ liệu:\n",
    "\n",
    "- `car-sales.csv`: bộ dữ liệu chứa thông tin của các ôtô cũ ở một cửa hàng\n"
   ]
  },
  {
   "cell_type": "markdown",
   "id": "9314552d",
   "metadata": {
    "id": "9314552d"
   },
   "source": [
    "### 1. Đọc dữ liệu"
   ]
  },
  {
   "cell_type": "code",
   "execution_count": 2,
   "id": "47ca9dc8",
   "metadata": {
    "colab": {
     "base_uri": "https://localhost:8080/"
    },
    "id": "47ca9dc8",
    "outputId": "ff4dc8c6-1008-4058-c41d-1dee4485d4c1"
   },
   "outputs": [
    {
     "data": {
      "text/html": [
       "<div>\n",
       "<style scoped>\n",
       "    .dataframe tbody tr th:only-of-type {\n",
       "        vertical-align: middle;\n",
       "    }\n",
       "\n",
       "    .dataframe tbody tr th {\n",
       "        vertical-align: top;\n",
       "    }\n",
       "\n",
       "    .dataframe thead th {\n",
       "        text-align: right;\n",
       "    }\n",
       "</style>\n",
       "<table border=\"1\" class=\"dataframe\">\n",
       "  <thead>\n",
       "    <tr style=\"text-align: right;\">\n",
       "      <th></th>\n",
       "      <th>Manufacturer</th>\n",
       "      <th>Colour</th>\n",
       "      <th>Odometer</th>\n",
       "      <th>Doors</th>\n",
       "      <th>Price</th>\n",
       "    </tr>\n",
       "  </thead>\n",
       "  <tbody>\n",
       "    <tr>\n",
       "      <th>0</th>\n",
       "      <td>Toyota</td>\n",
       "      <td>White</td>\n",
       "      <td>150043</td>\n",
       "      <td>4</td>\n",
       "      <td>4000.0</td>\n",
       "    </tr>\n",
       "    <tr>\n",
       "      <th>1</th>\n",
       "      <td>Honda</td>\n",
       "      <td>Red</td>\n",
       "      <td>87899</td>\n",
       "      <td>4</td>\n",
       "      <td>5000.0</td>\n",
       "    </tr>\n",
       "    <tr>\n",
       "      <th>2</th>\n",
       "      <td>Toyota</td>\n",
       "      <td>Blue</td>\n",
       "      <td>32549</td>\n",
       "      <td>3</td>\n",
       "      <td>7000.0</td>\n",
       "    </tr>\n",
       "    <tr>\n",
       "      <th>3</th>\n",
       "      <td>BMW</td>\n",
       "      <td>Black</td>\n",
       "      <td>11179</td>\n",
       "      <td>5</td>\n",
       "      <td>22000.0</td>\n",
       "    </tr>\n",
       "    <tr>\n",
       "      <th>4</th>\n",
       "      <td>Nissan</td>\n",
       "      <td>White</td>\n",
       "      <td>213095</td>\n",
       "      <td>4</td>\n",
       "      <td>3500.0</td>\n",
       "    </tr>\n",
       "  </tbody>\n",
       "</table>\n",
       "</div>"
      ],
      "text/plain": [
       "  Manufacturer Colour  Odometer  Doors    Price\n",
       "0       Toyota  White    150043      4   4000.0\n",
       "1        Honda    Red     87899      4   5000.0\n",
       "2       Toyota   Blue     32549      3   7000.0\n",
       "3          BMW  Black     11179      5  22000.0\n",
       "4       Nissan  White    213095      4   3500.0"
      ]
     },
     "execution_count": 2,
     "metadata": {},
     "output_type": "execute_result"
    }
   ],
   "source": [
    "import pandas as pd\n",
    "Doc = pd.read_csv('car-sales.csv',header = 0)\n",
    "Doc.head()"
   ]
  },
  {
   "cell_type": "markdown",
   "id": "06a61507",
   "metadata": {
    "id": "06a61507"
   },
   "source": [
    "### 2. Dữ liệu có bao nhiêu dòng, bao nhiêu cột\n",
    "\n",
    "Đáp án: (10 dòng, 5 cột)"
   ]
  },
  {
   "cell_type": "code",
   "execution_count": 4,
   "id": "a18bcab5",
   "metadata": {
    "colab": {
     "base_uri": "https://localhost:8080/"
    },
    "id": "a18bcab5",
    "outputId": "09ab37da-9ea7-4196-c68d-6fbfbd13e12e"
   },
   "outputs": [
    {
     "name": "stdout",
     "output_type": "stream",
     "text": [
      " Du lieu co 10 dong va co 5 cot\n"
     ]
    }
   ],
   "source": [
    "dong,cot = Doc.shape\n",
    "print (f\" Du lieu co {dong} dong va co {cot} cot\")"
   ]
  },
  {
   "cell_type": "markdown",
   "id": "506c2c6c",
   "metadata": {
    "id": "506c2c6c"
   },
   "source": [
    "- Định tính (phân loại): Manufacturer, Colour\n",
    "- Định lượng: Odemeter, Price, Doors"
   ]
  },
  {
   "cell_type": "code",
   "execution_count": 7,
   "id": "d7563796",
   "metadata": {
    "colab": {
     "base_uri": "https://localhost:8080/"
    },
    "id": "d7563796",
    "outputId": "908b639a-8587-47d8-d2c1-95ab78433d6e"
   },
   "outputs": [
    {
     "name": "stdout",
     "output_type": "stream",
     "text": [
      "  Manufacturer Colour\n",
      "0       Toyota  White\n",
      "1        Honda    Red\n",
      "2       Toyota   Blue\n",
      "3          BMW  Black\n",
      "4       Nissan  White\n",
      "5       Toyota  Green\n",
      "6        Honda   Blue\n",
      "7        Honda   Blue\n",
      "8       Toyota  White\n",
      "9       Nissan  White\n",
      "   Odometer  Doors    Price\n",
      "0    150043      4   4000.0\n",
      "1     87899      4   5000.0\n",
      "2     32549      3   7000.0\n",
      "3     11179      5  22000.0\n",
      "4    213095      4   3500.0\n",
      "5     99213      4   4500.0\n",
      "6     45698      4   7500.0\n",
      "7     54738      4   7000.0\n",
      "8     60000      4   6250.0\n",
      "9     31600      4   9700.0\n"
     ]
    }
   ],
   "source": [
    "DT = ['Manufacturer','Colour']\n",
    "DL = ['Odometer','Doors','Price']\n",
    "print(Doc[DT])\n",
    "print(Doc[DL])"
   ]
  },
  {
   "cell_type": "markdown",
   "id": "0e06a27b",
   "metadata": {
    "id": "0e06a27b"
   },
   "source": [
    "### 3. Trong dữ liệu có thông tin của bao nhiêu xe?\n",
    "\n",
    "Đáp án: 10 xe"
   ]
  },
  {
   "cell_type": "code",
   "execution_count": 10,
   "id": "d2223d39",
   "metadata": {
    "colab": {
     "base_uri": "https://localhost:8080/"
    },
    "id": "d2223d39",
    "outputId": "67df234e-4122-45d0-fc43-e03953880d77"
   },
   "outputs": [
    {
     "name": "stdout",
     "output_type": "stream",
     "text": [
      "trong du lieu co so xe 10\n"
     ]
    }
   ],
   "source": [
    "so_xe = Doc.shape[0]\n",
    "print(f\"trong du lieu co so xe {so_xe}\")"
   ]
  },
  {
   "cell_type": "markdown",
   "id": "9fab6bd4",
   "metadata": {
    "id": "9fab6bd4"
   },
   "source": [
    "### 4. Đếm số xe theo theo hãng\n",
    "\n",
    "Đáp án: Toyota: 10 xe, Honda: 3 xe, Nissan: 2 xe, BMW: 1 xe"
   ]
  },
  {
   "cell_type": "code",
   "execution_count": 13,
   "id": "ff20c98e",
   "metadata": {
    "colab": {
     "base_uri": "https://localhost:8080/"
    },
    "id": "ff20c98e",
    "outputId": "ea8cfd71-5b80-4508-ee84-03173d519b33"
   },
   "outputs": [
    {
     "name": "stdout",
     "output_type": "stream",
     "text": [
      "Manufacturer\n",
      "Toyota    4\n",
      "Honda     3\n",
      "Nissan    2\n",
      "BMW       1\n",
      "Name: count, dtype: int64\n"
     ]
    }
   ],
   "source": [
    "Dem = Doc['Manufacturer'].value_counts()\n",
    "print(Dem)"
   ]
  },
  {
   "cell_type": "markdown",
   "id": "8a29bdc4",
   "metadata": {
    "id": "8a29bdc4"
   },
   "source": [
    "### 5. Đếm số xe theo màu\n"
   ]
  },
  {
   "cell_type": "code",
   "execution_count": 16,
   "id": "e303e538",
   "metadata": {
    "colab": {
     "base_uri": "https://localhost:8080/"
    },
    "id": "e303e538",
    "outputId": "1391cc58-f61b-4016-d5f6-51035de20f4a"
   },
   "outputs": [
    {
     "name": "stdout",
     "output_type": "stream",
     "text": [
      "Colour\n",
      "White    4\n",
      "Blue     3\n",
      "Red      1\n",
      "Black    1\n",
      "Green    1\n",
      "Name: count, dtype: int64\n"
     ]
    }
   ],
   "source": [
    "Dem = Doc['Colour'].value_counts()\n",
    "print(Dem)"
   ]
  },
  {
   "cell_type": "markdown",
   "id": "7c911d06",
   "metadata": {
    "id": "7c911d06"
   },
   "source": [
    "### 6. Tổng giá trị các xe trong cửa hàng\n",
    "\n",
    "Đáp án: 76450 USD\n"
   ]
  },
  {
   "cell_type": "code",
   "execution_count": 19,
   "id": "67f87531",
   "metadata": {
    "colab": {
     "base_uri": "https://localhost:8080/"
    },
    "id": "67f87531",
    "outputId": "713ba682-9f8f-4209-9ae9-aec22cdf76f1"
   },
   "outputs": [
    {
     "name": "stdout",
     "output_type": "stream",
     "text": [
      "76450.0\n"
     ]
    }
   ],
   "source": [
    "Tong = Doc['Price'].sum()\n",
    "print(Tong)"
   ]
  },
  {
   "cell_type": "markdown",
   "id": "6050e3b0",
   "metadata": {
    "id": "6050e3b0"
   },
   "source": [
    "### 7. Top 3 xe có giá cao nhất\n"
   ]
  },
  {
   "cell_type": "code",
   "execution_count": 22,
   "id": "be72996a",
   "metadata": {
    "colab": {
     "base_uri": "https://localhost:8080/"
    },
    "id": "be72996a",
    "outputId": "4200ab79-aa59-4d5e-e2c8-8511d9184477"
   },
   "outputs": [
    {
     "name": "stdout",
     "output_type": "stream",
     "text": [
      "  Manufacturer Colour  Odometer  Doors    Price\n",
      "3          BMW  Black     11179      5  22000.0\n",
      "9       Nissan  White     31600      4   9700.0\n",
      "6        Honda   Blue     45698      4   7500.0\n"
     ]
    }
   ],
   "source": [
    "Top_3 = Doc.nlargest(3, 'Price')\n",
    "print(Top_3)"
   ]
  },
  {
   "cell_type": "markdown",
   "id": "8f6cc9c2",
   "metadata": {
    "id": "8f6cc9c2"
   },
   "source": [
    "### 8. Top 3 xe đã chạy nhiều cây số (km)nhất (Odometer)\n",
    "\n",
    "Đáp án:\n",
    "- Xe Nissan, White, 213095 km\n",
    "- Xe Toyota, White, 150043 km\n",
    "- Xe Toyota, Green, 99213 km"
   ]
  },
  {
   "cell_type": "code",
   "execution_count": 25,
   "id": "ae2e8c30",
   "metadata": {
    "colab": {
     "base_uri": "https://localhost:8080/"
    },
    "id": "ae2e8c30",
    "outputId": "1646ae0a-90e0-4089-f6a8-648b920b955e"
   },
   "outputs": [
    {
     "name": "stdout",
     "output_type": "stream",
     "text": [
      "  Manufacturer Colour  Odometer  Doors   Price\n",
      "4       Nissan  White    213095      4  3500.0\n",
      "0       Toyota  White    150043      4  4000.0\n",
      "5       Toyota  Green     99213      4  4500.0\n"
     ]
    }
   ],
   "source": [
    "Top_3 = Doc.nlargest(3, 'Odometer')\n",
    "print(Top_3)"
   ]
  },
  {
   "cell_type": "markdown",
   "id": "ffc04c82",
   "metadata": {
    "id": "ffc04c82"
   },
   "source": [
    "### 9. Khảo sát xe của hãng Honda\n",
    "\n",
    "- Tính tỷ lệ xe Honda trong dữ liệu của cửa hàng (0.3)\n",
    "- Cho biết giá trung bình của xe hãng Honda của cửa hàng (6500)\n",
    "- Cho biết các xe của hãng Honda trong cửa hàng có những màu sắc nào (Red, Blue)"
   ]
  },
  {
   "cell_type": "code",
   "execution_count": 28,
   "id": "e2c234f5",
   "metadata": {
    "colab": {
     "base_uri": "https://localhost:8080/"
    },
    "id": "e2c234f5",
    "outputId": "31f92353-3193-444f-a252-566a1d752105"
   },
   "outputs": [
    {
     "name": "stdout",
     "output_type": "stream",
     "text": [
      "Ti le xe Honda :0.3\n",
      "Gia trung binh cua xe Hoanda:6500.0\n",
      "Mau cua cac loai xe:Colour\n",
      "Blue    2\n",
      "Red     1\n",
      "Name: count, dtype: int64\n"
     ]
    }
   ],
   "source": [
    "Honda = Doc[Doc[\"Manufacturer\"]== 'Honda']\n",
    "TL = len(Honda)/len(Doc)\n",
    "print(f\"Ti le xe Honda :{TL}\")\n",
    "GiaTB = Honda['Price'].mean()\n",
    "print(f\"Gia trung binh cua xe Hoanda:{GiaTB}\")\n",
    "Mau = Honda['Colour'].value_counts()\n",
    "print(f\"Mau cua cac loai xe:{Mau}\")"
   ]
  },
  {
   "cell_type": "markdown",
   "id": "852ceeba",
   "metadata": {
    "id": "852ceeba"
   },
   "source": [
    "### 10. Tính toán các giá trị sau của  thuộc tính giá ('Price')\n",
    "\n",
    "- Giá trung bình các xe (7645)\n",
    "- Giá trị trung vị các xe (6625)\n",
    "- Miền giá trị của xe (18500)\n",
    "- Miền phân vị của xe (2750)\n",
    "- Điểm phân vị 0.4 và 0.6 của giá ([5750, 7000])"
   ]
  },
  {
   "cell_type": "code",
   "execution_count": 31,
   "id": "f43fe1ac",
   "metadata": {
    "colab": {
     "base_uri": "https://localhost:8080/"
    },
    "id": "f43fe1ac",
    "outputId": "d5de76b4-fd5a-4f68-a709-77e023097ea0"
   },
   "outputs": [
    {
     "name": "stdout",
     "output_type": "stream",
     "text": [
      "Gia trung binh cua xe Hoanda:7645.0\n",
      "Gia trung vi cua xe Hoanda:6625.0\n",
      "Mien gia tri cua xe 18500.0\n",
      "Mien phan vi cua xe 2750.0\n",
      "Diem phan vi 0.4 co gia 5750.0 va diem phan vi 0.6 cos gia 7000.0\n"
     ]
    }
   ],
   "source": [
    "GiaTB = Doc['Price'].mean()\n",
    "print(f\"Gia trung binh cua xe Hoanda:{GiaTB}\")\n",
    "GiaTV = Doc['Price'].median()\n",
    "print(f\"Gia trung vi cua xe Hoanda:{GiaTV}\")\n",
    "Min = Doc['Price'].min()\n",
    "Max = Doc['Price'].max()\n",
    "Mien_GT = Max - Min\n",
    "print(f\"Mien gia tri cua xe {Mien_GT}\")\n",
    "q1 = Doc['Price'].quantile(0.25)\n",
    "q3 = Doc['Price'].quantile(0.75)\n",
    "Mien_PV = q3 - q1\n",
    "print(f\"Mien phan vi cua xe {Mien_PV}\")\n",
    "q04 = Doc['Price'].quantile(0.4)\n",
    "q06 = Doc['Price'].quantile(0.6)\n",
    "print(f\"Diem phan vi 0.4 co gia {q04} va diem phan vi 0.6 cos gia {q06}\")"
   ]
  },
  {
   "cell_type": "markdown",
   "id": "f97c2d3c",
   "metadata": {
    "id": "f97c2d3c"
   },
   "source": [
    "---"
   ]
  }
 ],
 "metadata": {
  "colab": {
   "provenance": []
  },
  "kernelspec": {
   "display_name": "Python [conda env:base] *",
   "language": "python",
   "name": "conda-base-py"
  },
  "language_info": {
   "codemirror_mode": {
    "name": "ipython",
    "version": 3
   },
   "file_extension": ".py",
   "mimetype": "text/x-python",
   "name": "python",
   "nbconvert_exporter": "python",
   "pygments_lexer": "ipython3",
   "version": "3.11.7"
  }
 },
 "nbformat": 4,
 "nbformat_minor": 5
}
